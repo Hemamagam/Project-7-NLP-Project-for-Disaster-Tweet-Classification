{
 "cells": [
  {
   "cell_type": "code",
   "execution_count": 6,
   "metadata": {},
   "outputs": [],
   "source": [
    "import pandas as pd"
   ]
  },
  {
   "cell_type": "code",
   "execution_count": 7,
   "metadata": {},
   "outputs": [],
   "source": [
    "nlp_data1=pd.read_csv('nlp_data1.csv')"
   ]
  },
  {
   "cell_type": "markdown",
   "metadata": {},
   "source": [
    "### Neural Network"
   ]
  },
  {
   "cell_type": "code",
   "execution_count": 8,
   "metadata": {},
   "outputs": [],
   "source": [
    "from sklearn.neural_network import MLPClassifier\n",
    "from sklearn.model_selection import cross_validate\n",
    "import numpy as np"
   ]
  },
  {
   "cell_type": "code",
   "execution_count": 12,
   "metadata": {},
   "outputs": [],
   "source": [
    "from sklearn.model_selection import train_test_split\n",
    "from sklearn.metrics import accuracy_score, precision_score, recall_score, f1_score\n",
    "from sklearn.feature_extraction.text import TfidfVectorizer\n",
    "import joblib\n",
    "\n",
    "X = nlp_data1['lemmatized_token']\n",
    "y = nlp_data1['target']\n",
    "\n",
    "tfidf_vectorizer = TfidfVectorizer()\n",
    "X = tfidf_vectorizer.fit_transform(X)\n",
    "\n",
    "\n",
    "X_train, X_test, y_train, y_test = train_test_split(X, y, test_size=0.2, random_state=42)"
   ]
  },
  {
   "cell_type": "code",
   "execution_count": 15,
   "metadata": {},
   "outputs": [],
   "source": [
    "neural_network =MLPClassifier(hidden_layer_sizes=(100,), max_iter=200, random_state=42)"
   ]
  },
  {
   "cell_type": "code",
   "execution_count": 16,
   "metadata": {},
   "outputs": [],
   "source": [
    "cv_results_nn= cross_validate(neural_network, X_train, y_train, cv=5,\n",
    "                              scoring=['accuracy','precision', 'recall', 'f1'])"
   ]
  },
  {
   "cell_type": "code",
   "execution_count": 19,
   "metadata": {},
   "outputs": [],
   "source": [
    "accuracy_scores_nn = cv_results_nn['test_accuracy']\n",
    "precision_scores_nn = cv_results_nn['test_precision']\n",
    "recall_scores_nn= cv_results_nn['test_recall']\n",
    "fl_scores_nn = cv_results_nn ['test_f1']\n"
   ]
  },
  {
   "cell_type": "code",
   "execution_count": 20,
   "metadata": {},
   "outputs": [
    {
     "name": "stdout",
     "output_type": "stream",
     "text": [
      "Accuracy: mean = 0.7559934318555007 , std = 0.013878848347530691\n",
      "Precision: mean = 0.7316246182418128 , std = 0.024258395374513464\n",
      "Recall: mean = 0.6857433660487096 , std = 0.01461960127070449\n",
      "F1 Score: mean = 0.7076943104435374 , std = 0.014191747515138546\n"
     ]
    }
   ],
   "source": [
    "print(\"Accuracy: mean =\", np.mean(accuracy_scores_nn), \", std =\", np.std(accuracy_scores_nn))\n",
    "print(\"Precision: mean =\", np.mean(precision_scores_nn), \", std =\", np.std(precision_scores_nn))\n",
    "print(\"Recall: mean =\", np.mean(recall_scores_nn), \", std =\", np.std(recall_scores_nn))\n",
    "print(\"F1 Score: mean =\", np.mean(fl_scores_nn), \", std =\", np.std(fl_scores_nn))"
   ]
  },
  {
   "cell_type": "code",
   "execution_count": null,
   "metadata": {},
   "outputs": [],
   "source": []
  }
 ],
 "metadata": {
  "kernelspec": {
   "display_name": "base",
   "language": "python",
   "name": "python3"
  },
  "language_info": {
   "codemirror_mode": {
    "name": "ipython",
    "version": 3
   },
   "file_extension": ".py",
   "mimetype": "text/x-python",
   "name": "python",
   "nbconvert_exporter": "python",
   "pygments_lexer": "ipython3",
   "version": "3.11.7"
  }
 },
 "nbformat": 4,
 "nbformat_minor": 2
}
