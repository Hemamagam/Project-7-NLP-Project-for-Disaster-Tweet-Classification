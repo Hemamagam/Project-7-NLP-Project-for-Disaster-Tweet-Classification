{
 "cells": [
  {
   "cell_type": "markdown",
   "metadata": {},
   "source": [
    "###         **NLP Project for Disaster Tweet Classification**"
   ]
  },
  {
   "cell_type": "code",
   "execution_count": 153,
   "metadata": {},
   "outputs": [],
   "source": [
    "import pandas as pd\n",
    "import matplotlib.pyplot as plt\n",
    "import seaborn as sns"
   ]
  },
  {
   "cell_type": "code",
   "execution_count": 154,
   "metadata": {},
   "outputs": [],
   "source": [
    "nlp_data=pd.read_csv('twitter_disaster.csv')"
   ]
  },
  {
   "cell_type": "code",
   "execution_count": 155,
   "metadata": {},
   "outputs": [
    {
     "data": {
      "text/html": [
       "<div>\n",
       "<style scoped>\n",
       "    .dataframe tbody tr th:only-of-type {\n",
       "        vertical-align: middle;\n",
       "    }\n",
       "\n",
       "    .dataframe tbody tr th {\n",
       "        vertical-align: top;\n",
       "    }\n",
       "\n",
       "    .dataframe thead th {\n",
       "        text-align: right;\n",
       "    }\n",
       "</style>\n",
       "<table border=\"1\" class=\"dataframe\">\n",
       "  <thead>\n",
       "    <tr style=\"text-align: right;\">\n",
       "      <th></th>\n",
       "      <th>id</th>\n",
       "      <th>keyword</th>\n",
       "      <th>location</th>\n",
       "      <th>text</th>\n",
       "      <th>target</th>\n",
       "    </tr>\n",
       "  </thead>\n",
       "  <tbody>\n",
       "    <tr>\n",
       "      <th>0</th>\n",
       "      <td>1</td>\n",
       "      <td>NaN</td>\n",
       "      <td>NaN</td>\n",
       "      <td>Our Deeds are the Reason of this #earthquake M...</td>\n",
       "      <td>1</td>\n",
       "    </tr>\n",
       "    <tr>\n",
       "      <th>1</th>\n",
       "      <td>4</td>\n",
       "      <td>NaN</td>\n",
       "      <td>NaN</td>\n",
       "      <td>Forest fire near La Ronge Sask. Canada</td>\n",
       "      <td>1</td>\n",
       "    </tr>\n",
       "    <tr>\n",
       "      <th>2</th>\n",
       "      <td>5</td>\n",
       "      <td>NaN</td>\n",
       "      <td>NaN</td>\n",
       "      <td>All residents asked to 'shelter in place' are ...</td>\n",
       "      <td>1</td>\n",
       "    </tr>\n",
       "    <tr>\n",
       "      <th>3</th>\n",
       "      <td>6</td>\n",
       "      <td>NaN</td>\n",
       "      <td>NaN</td>\n",
       "      <td>13,000 people receive #wildfires evacuation or...</td>\n",
       "      <td>1</td>\n",
       "    </tr>\n",
       "    <tr>\n",
       "      <th>4</th>\n",
       "      <td>7</td>\n",
       "      <td>NaN</td>\n",
       "      <td>NaN</td>\n",
       "      <td>Just got sent this photo from Ruby #Alaska as ...</td>\n",
       "      <td>1</td>\n",
       "    </tr>\n",
       "    <tr>\n",
       "      <th>...</th>\n",
       "      <td>...</td>\n",
       "      <td>...</td>\n",
       "      <td>...</td>\n",
       "      <td>...</td>\n",
       "      <td>...</td>\n",
       "    </tr>\n",
       "    <tr>\n",
       "      <th>7608</th>\n",
       "      <td>10869</td>\n",
       "      <td>NaN</td>\n",
       "      <td>NaN</td>\n",
       "      <td>Two giant cranes holding a bridge collapse int...</td>\n",
       "      <td>1</td>\n",
       "    </tr>\n",
       "    <tr>\n",
       "      <th>7609</th>\n",
       "      <td>10870</td>\n",
       "      <td>NaN</td>\n",
       "      <td>NaN</td>\n",
       "      <td>@aria_ahrary @TheTawniest The out of control w...</td>\n",
       "      <td>1</td>\n",
       "    </tr>\n",
       "    <tr>\n",
       "      <th>7610</th>\n",
       "      <td>10871</td>\n",
       "      <td>NaN</td>\n",
       "      <td>NaN</td>\n",
       "      <td>M1.94 [01:04 UTC]?5km S of Volcano Hawaii. htt...</td>\n",
       "      <td>1</td>\n",
       "    </tr>\n",
       "    <tr>\n",
       "      <th>7611</th>\n",
       "      <td>10872</td>\n",
       "      <td>NaN</td>\n",
       "      <td>NaN</td>\n",
       "      <td>Police investigating after an e-bike collided ...</td>\n",
       "      <td>1</td>\n",
       "    </tr>\n",
       "    <tr>\n",
       "      <th>7612</th>\n",
       "      <td>10873</td>\n",
       "      <td>NaN</td>\n",
       "      <td>NaN</td>\n",
       "      <td>The Latest: More Homes Razed by Northern Calif...</td>\n",
       "      <td>1</td>\n",
       "    </tr>\n",
       "  </tbody>\n",
       "</table>\n",
       "<p>7613 rows × 5 columns</p>\n",
       "</div>"
      ],
      "text/plain": [
       "         id keyword location  \\\n",
       "0         1     NaN      NaN   \n",
       "1         4     NaN      NaN   \n",
       "2         5     NaN      NaN   \n",
       "3         6     NaN      NaN   \n",
       "4         7     NaN      NaN   \n",
       "...     ...     ...      ...   \n",
       "7608  10869     NaN      NaN   \n",
       "7609  10870     NaN      NaN   \n",
       "7610  10871     NaN      NaN   \n",
       "7611  10872     NaN      NaN   \n",
       "7612  10873     NaN      NaN   \n",
       "\n",
       "                                                   text  target  \n",
       "0     Our Deeds are the Reason of this #earthquake M...       1  \n",
       "1                Forest fire near La Ronge Sask. Canada       1  \n",
       "2     All residents asked to 'shelter in place' are ...       1  \n",
       "3     13,000 people receive #wildfires evacuation or...       1  \n",
       "4     Just got sent this photo from Ruby #Alaska as ...       1  \n",
       "...                                                 ...     ...  \n",
       "7608  Two giant cranes holding a bridge collapse int...       1  \n",
       "7609  @aria_ahrary @TheTawniest The out of control w...       1  \n",
       "7610  M1.94 [01:04 UTC]?5km S of Volcano Hawaii. htt...       1  \n",
       "7611  Police investigating after an e-bike collided ...       1  \n",
       "7612  The Latest: More Homes Razed by Northern Calif...       1  \n",
       "\n",
       "[7613 rows x 5 columns]"
      ]
     },
     "execution_count": 155,
     "metadata": {},
     "output_type": "execute_result"
    }
   ],
   "source": [
    "nlp_data"
   ]
  },
  {
   "cell_type": "code",
   "execution_count": 156,
   "metadata": {},
   "outputs": [
    {
     "name": "stdout",
     "output_type": "stream",
     "text": [
      "<class 'pandas.core.frame.DataFrame'>\n",
      "RangeIndex: 7613 entries, 0 to 7612\n",
      "Data columns (total 5 columns):\n",
      " #   Column    Non-Null Count  Dtype \n",
      "---  ------    --------------  ----- \n",
      " 0   id        7613 non-null   int64 \n",
      " 1   keyword   7552 non-null   object\n",
      " 2   location  5080 non-null   object\n",
      " 3   text      7613 non-null   object\n",
      " 4   target    7613 non-null   int64 \n",
      "dtypes: int64(2), object(3)\n",
      "memory usage: 297.5+ KB\n"
     ]
    }
   ],
   "source": [
    "nlp_data.info()"
   ]
  },
  {
   "cell_type": "code",
   "execution_count": 157,
   "metadata": {},
   "outputs": [
    {
     "data": {
      "text/plain": [
       "id             0\n",
       "keyword       61\n",
       "location    2533\n",
       "text           0\n",
       "target         0\n",
       "dtype: int64"
      ]
     },
     "execution_count": 157,
     "metadata": {},
     "output_type": "execute_result"
    }
   ],
   "source": [
    "nlp_data.isnull().sum()"
   ]
  },
  {
   "cell_type": "code",
   "execution_count": 158,
   "metadata": {},
   "outputs": [
    {
     "data": {
      "text/plain": [
       "array([nan, 'ablaze', 'accident', 'aftershock', 'airplane%20accident',\n",
       "       'ambulance', 'annihilated', 'annihilation', 'apocalypse',\n",
       "       'armageddon', 'army', 'arson', 'arsonist', 'attack', 'attacked',\n",
       "       'avalanche', 'battle', 'bioterror', 'bioterrorism', 'blaze',\n",
       "       'blazing', 'bleeding', 'blew%20up', 'blight', 'blizzard', 'blood',\n",
       "       'bloody', 'blown%20up', 'body%20bag', 'body%20bagging',\n",
       "       'body%20bags', 'bomb', 'bombed', 'bombing', 'bridge%20collapse',\n",
       "       'buildings%20burning', 'buildings%20on%20fire', 'burned',\n",
       "       'burning', 'burning%20buildings', 'bush%20fires', 'casualties',\n",
       "       'casualty', 'catastrophe', 'catastrophic', 'chemical%20emergency',\n",
       "       'cliff%20fall', 'collapse', 'collapsed', 'collide', 'collided',\n",
       "       'collision', 'crash', 'crashed', 'crush', 'crushed', 'curfew',\n",
       "       'cyclone', 'damage', 'danger', 'dead', 'death', 'deaths', 'debris',\n",
       "       'deluge', 'deluged', 'demolish', 'demolished', 'demolition',\n",
       "       'derail', 'derailed', 'derailment', 'desolate', 'desolation',\n",
       "       'destroy', 'destroyed', 'destruction', 'detonate', 'detonation',\n",
       "       'devastated', 'devastation', 'disaster', 'displaced', 'drought',\n",
       "       'drown', 'drowned', 'drowning', 'dust%20storm', 'earthquake',\n",
       "       'electrocute', 'electrocuted', 'emergency', 'emergency%20plan',\n",
       "       'emergency%20services', 'engulfed', 'epicentre', 'evacuate',\n",
       "       'evacuated', 'evacuation', 'explode', 'exploded', 'explosion',\n",
       "       'eyewitness', 'famine', 'fatal', 'fatalities', 'fatality', 'fear',\n",
       "       'fire', 'fire%20truck', 'first%20responders', 'flames',\n",
       "       'flattened', 'flood', 'flooding', 'floods', 'forest%20fire',\n",
       "       'forest%20fires', 'hail', 'hailstorm', 'harm', 'hazard',\n",
       "       'hazardous', 'heat%20wave', 'hellfire', 'hijack', 'hijacker',\n",
       "       'hijacking', 'hostage', 'hostages', 'hurricane', 'injured',\n",
       "       'injuries', 'injury', 'inundated', 'inundation', 'landslide',\n",
       "       'lava', 'lightning', 'loud%20bang', 'mass%20murder',\n",
       "       'mass%20murderer', 'massacre', 'mayhem', 'meltdown', 'military',\n",
       "       'mudslide', 'natural%20disaster', 'nuclear%20disaster',\n",
       "       'nuclear%20reactor', 'obliterate', 'obliterated', 'obliteration',\n",
       "       'oil%20spill', 'outbreak', 'pandemonium', 'panic', 'panicking',\n",
       "       'police', 'quarantine', 'quarantined', 'radiation%20emergency',\n",
       "       'rainstorm', 'razed', 'refugees', 'rescue', 'rescued', 'rescuers',\n",
       "       'riot', 'rioting', 'rubble', 'ruin', 'sandstorm', 'screamed',\n",
       "       'screaming', 'screams', 'seismic', 'sinkhole', 'sinking', 'siren',\n",
       "       'sirens', 'smoke', 'snowstorm', 'storm', 'stretcher',\n",
       "       'structural%20failure', 'suicide%20bomb', 'suicide%20bomber',\n",
       "       'suicide%20bombing', 'sunk', 'survive', 'survived', 'survivors',\n",
       "       'terrorism', 'terrorist', 'threat', 'thunder', 'thunderstorm',\n",
       "       'tornado', 'tragedy', 'trapped', 'trauma', 'traumatised',\n",
       "       'trouble', 'tsunami', 'twister', 'typhoon', 'upheaval',\n",
       "       'violent%20storm', 'volcano', 'war%20zone', 'weapon', 'weapons',\n",
       "       'whirlwind', 'wild%20fires', 'wildfire', 'windstorm', 'wounded',\n",
       "       'wounds', 'wreck', 'wreckage', 'wrecked'], dtype=object)"
      ]
     },
     "execution_count": 158,
     "metadata": {},
     "output_type": "execute_result"
    }
   ],
   "source": [
    "nlp_data['keyword'].unique()"
   ]
  },
  {
   "cell_type": "code",
   "execution_count": 159,
   "metadata": {},
   "outputs": [
    {
     "data": {
      "text/plain": [
       "array([nan, 'Birmingham', 'Est. September 2012 - Bristol', ...,\n",
       "       'Vancouver, Canada', 'London ', 'Lincoln'], dtype=object)"
      ]
     },
     "execution_count": 159,
     "metadata": {},
     "output_type": "execute_result"
    }
   ],
   "source": [
    "nlp_data['location'].unique()"
   ]
  },
  {
   "cell_type": "code",
   "execution_count": 160,
   "metadata": {},
   "outputs": [
    {
     "data": {
      "text/html": [
       "<div>\n",
       "<style scoped>\n",
       "    .dataframe tbody tr th:only-of-type {\n",
       "        vertical-align: middle;\n",
       "    }\n",
       "\n",
       "    .dataframe tbody tr th {\n",
       "        vertical-align: top;\n",
       "    }\n",
       "\n",
       "    .dataframe thead th {\n",
       "        text-align: right;\n",
       "    }\n",
       "</style>\n",
       "<table border=\"1\" class=\"dataframe\">\n",
       "  <thead>\n",
       "    <tr style=\"text-align: right;\">\n",
       "      <th></th>\n",
       "      <th>id</th>\n",
       "      <th>target</th>\n",
       "    </tr>\n",
       "  </thead>\n",
       "  <tbody>\n",
       "    <tr>\n",
       "      <th>count</th>\n",
       "      <td>7613.00</td>\n",
       "      <td>7613.00</td>\n",
       "    </tr>\n",
       "    <tr>\n",
       "      <th>mean</th>\n",
       "      <td>5441.93</td>\n",
       "      <td>0.43</td>\n",
       "    </tr>\n",
       "    <tr>\n",
       "      <th>std</th>\n",
       "      <td>3137.12</td>\n",
       "      <td>0.50</td>\n",
       "    </tr>\n",
       "    <tr>\n",
       "      <th>min</th>\n",
       "      <td>1.00</td>\n",
       "      <td>0.00</td>\n",
       "    </tr>\n",
       "    <tr>\n",
       "      <th>25%</th>\n",
       "      <td>2734.00</td>\n",
       "      <td>0.00</td>\n",
       "    </tr>\n",
       "    <tr>\n",
       "      <th>50%</th>\n",
       "      <td>5408.00</td>\n",
       "      <td>0.00</td>\n",
       "    </tr>\n",
       "    <tr>\n",
       "      <th>75%</th>\n",
       "      <td>8146.00</td>\n",
       "      <td>1.00</td>\n",
       "    </tr>\n",
       "    <tr>\n",
       "      <th>max</th>\n",
       "      <td>10873.00</td>\n",
       "      <td>1.00</td>\n",
       "    </tr>\n",
       "  </tbody>\n",
       "</table>\n",
       "</div>"
      ],
      "text/plain": [
       "             id   target\n",
       "count   7613.00  7613.00\n",
       "mean    5441.93     0.43\n",
       "std     3137.12     0.50\n",
       "min        1.00     0.00\n",
       "25%     2734.00     0.00\n",
       "50%     5408.00     0.00\n",
       "75%     8146.00     1.00\n",
       "max    10873.00     1.00"
      ]
     },
     "execution_count": 160,
     "metadata": {},
     "output_type": "execute_result"
    }
   ],
   "source": [
    "nlp_data.describe().round(2)"
   ]
  },
  {
   "cell_type": "markdown",
   "metadata": {},
   "source": [
    "### Replacing the Null Values to object columns"
   ]
  },
  {
   "cell_type": "code",
   "execution_count": 161,
   "metadata": {},
   "outputs": [],
   "source": [
    "nlp_data['location'].fillna('Unknown', inplace=True)\n",
    "nlp_data['keyword'].fillna('NotAvailable', inplace=True)"
   ]
  },
  {
   "cell_type": "markdown",
   "metadata": {},
   "source": [
    "### Class Distribution"
   ]
  },
  {
   "cell_type": "code",
   "execution_count": 162,
   "metadata": {},
   "outputs": [
    {
     "data": {
      "image/png": "[encoded data removed]",
      "text/plain": [
       "<Figure size 500x300 with 1 Axes>"
      ]
     },
     "metadata": {},
     "output_type": "display_data"
    }
   ],
   "source": [
    "plt.figure(figsize=(5,3))\n",
    "sns.countplot(x='target', data=nlp_data)\n",
    "plt.title('Class Distribution')\n",
    "plt.xlabel('Class')\n",
    "plt.ylabel('Count')\n",
    "plt.xticks([0,1],['Non-Disaster','Disaster'])\n",
    "plt.show()"
   ]
  },
  {
   "cell_type": "markdown",
   "metadata": {},
   "source": [
    "### Filter disaster tweet"
   ]
  },
  {
   "cell_type": "code",
   "execution_count": 163,
   "metadata": {},
   "outputs": [],
   "source": [
    "disaster_tweets=nlp_data[nlp_data['target']==1]['text']"
   ]
  },
  {
   "cell_type": "code",
   "execution_count": 164,
   "metadata": {},
   "outputs": [
    {
     "data": {
      "text/plain": [
       "0       Our Deeds are the Reason of this #earthquake M...\n",
       "1                  Forest fire near La Ronge Sask. Canada\n",
       "2       All residents asked to 'shelter in place' are ...\n",
       "3       13,000 people receive #wildfires evacuation or...\n",
       "4       Just got sent this photo from Ruby #Alaska as ...\n",
       "                              ...                        \n",
       "7608    Two giant cranes holding a bridge collapse int...\n",
       "7609    @aria_ahrary @TheTawniest The out of control w...\n",
       "7610    M1.94 [01:04 UTC]?5km S of Volcano Hawaii. htt...\n",
       "7611    Police investigating after an e-bike collided ...\n",
       "7612    The Latest: More Homes Razed by Northern Calif...\n",
       "Name: text, Length: 3271, dtype: object"
      ]
     },
     "execution_count": 164,
     "metadata": {},
     "output_type": "execute_result"
    }
   ],
   "source": [
    "disaster_tweets"
   ]
  },
  {
   "cell_type": "markdown",
   "metadata": {},
   "source": [
    "### Tokenize and count word frequencies"
   ]
  },
  {
   "cell_type": "code",
   "execution_count": 165,
   "metadata": {},
   "outputs": [
    {
     "name": "stderr",
     "output_type": "stream",
     "text": [
      "[nltk_data] Downloading package punkt to\n",
      "[nltk_data]     C:\\Users\\pooji\\AppData\\Roaming\\nltk_data...\n",
      "[nltk_data]   Package punkt is already up-to-date!\n"
     ]
    },
    {
     "data": {
      "text/plain": [
       "True"
      ]
     },
     "execution_count": 165,
     "metadata": {},
     "output_type": "execute_result"
    }
   ],
   "source": [
    "import nltk\n",
    "nltk.download('punkt')"
   ]
  },
  {
   "cell_type": "code",
   "execution_count": 166,
   "metadata": {},
   "outputs": [
    {
     "name": "stdout",
     "output_type": "stream",
     "text": [
      "Counter({'%': 708, 'suicide': 94, '20fires': 72, 'buildings': 52, '20storm': 50, '20disaster': 49, 'mass': 47, 'emergency': 46, 'nuclear': 45, '20fire': 43, 'notavailable': 42, 'forest': 42, 'derailment': 39, 'outbreak': 39, 'wreckage': 39, 'debris': 37, 'oil': 37, '20spill': 37, 'typhoon': 37, 'fire': 33, 'evacuated': 32, 'rescuers': 32, '20bomb': 32, '20bombing': 32, 'burning': 31, 'razed': 31, 'airplane': 30, '20accident': 30, 'earthquake': 30, '20bomber': 30, 'bridge': 29, '20collapse': 29, 'collision': 29, 'wildfire': 29, '20on': 28, 'casualties': 28, 'drought': 28, 'evacuation': 28, '20murder': 28, 'sandstorm': 28, 'bombing': 27, 'devastation': 27, 'hostages': 27, 'sinkhole': 27, 'wild': 27, 'deaths': 26, 'derailed': 26, 'displaced': 26, 'famine': 26, 'fatal': 26, 'fatalities': 26, 'floods': 26, 'thunderstorm': 26, 'violent': 26, 'wounded': 26, 'attack': 25, 'evacuate': 25, 'flooding': 25, 'heat': 25, '20wave': 25, 'massacre': 25, 'accident': 24, '20burning': 24, 'dust': 24, 'hailstorm': 24, 'injured': 24, 'terrorism': 24, 'collided': 23, 'rioting': 23, 'structural': 23, '20failure': 23, 'terrorist': 23, 'arson': 22, 'bioterror': 22, '20truck': 22, 'hazardous': 22, 'refugees': 22, 'tragedy': 22, 'attacked': 21, 'bioterrorism': 21, '20buildings': 21, 'crashed': 21, '20plan': 21, 'police': 21, 'survivors': 21, 'ambulance': 20, 'catastrophic': 20, '20emergency': 20, 'explosion': 20, 'hurricane': 20, 'bombed': 19, 'cyclone': 19, 'damage': 19, 'engulfed': 19, 'hijacker': 19, '20murderer': 19, 'bush': 18, 'devastated': 18, 'hail': 18, 'natural': 18, 'rainstorm': 18, 'storm': 18, 'volcano': 18, 'derail': 17, 'lightning': 17, 'rescued': 17, 'weapons': 17, 'hijack': 16, 'tornado': 16, 'windstorm': 16, 'bomb': 15, 'casualty': 15, 'chemical': 15, 'collapse': 15, 'disaster': 15, 'drowned': 15, 'flood': 15, 'hijacking': 15, 'hostage': 15, 'landslide': 14, '20reactor': 14, 'quarantined': 14, 'weapon': 14, 'whirlwind': 14, 'ablaze': 13, 'collapsed': 13, 'electrocuted': 13, 'flames': 13, 'seismic': 13, 'snowstorm': 13, 'crash': 12, 'eyewitness': 12, 'first': 12, '20responders': 12, 'mudslide': 12, 'thunder': 12, 'annihilated': 11, '20services': 11, 'injury': 11, 'trauma': 11, 'tsunami': 11, 'annihilation': 10, 'detonate': 10, 'fatality': 10, 'rubble': 10, 'survived': 10, 'wounds': 10, 'apocalypse': 9, 'death': 9, 'demolition': 9, 'destroy': 9, 'detonation': 9, 'drowning': 9, 'exploded': 9, 'injuries': 9, 'sunk': 9, 'trapped': 9, 'arsonist': 8, 'cliff': 8, '20fall': 8, 'danger': 8, 'destroyed': 8, 'military': 8, 'pandemonium': 8, 'sinking': 8, '20up': 7, 'body': 7, 'burned': 7, 'catastrophe': 7, 'dead': 7, 'deluged': 7, 'demolished': 7, 'desolate': 7, 'desolation': 7, 'hazard': 7, 'hellfire': 7, 'loud': 7, '20bang': 7, 'sirens': 7, 'war': 7, '20zone': 7, 'wreck': 7, 'deluge': 6, 'destruction': 6, 'inundated': 6, 'riot': 6, 'upheaval': 6, 'armageddon': 5, 'army': 5, 'battle': 5, 'blaze': 5, 'bleeding': 5, 'blood': 5, 'blown': 5, '20bagging': 5, 'curfew': 5, 'demolish': 5, 'fear': 5, 'flattened': 5, 'lava': 5, 'meltdown': 5, 'quarantine': 5, 'radiation': 5, 'rescue': 5, 'screams': 5, 'siren': 5, 'survive': 5, 'trouble': 5, 'twister': 5, 'avalanche': 4, 'blizzard': 4, 'crush': 4, 'crushed': 4, 'harm': 4, 'obliterate': 4, 'obliterated': 4, 'obliteration': 4, 'screamed': 4, 'bloody': 3, 'collide': 3, 'drown': 3, 'explode': 3, 'mayhem': 3, 'panic': 3, 'smoke': 3, 'stretcher': 3, 'wrecked': 3, 'blew': 2, 'blight': 2, 'inundation': 2, 'panicking': 2, 'screaming': 2, 'threat': 2, 'traumatised': 2, 'blazing': 1, '20bag': 1, '20bags': 1, 'electrocute': 1, 'epicentre': 1, 'ruin': 1})\n"
     ]
    }
   ],
   "source": [
    "from collections import Counter\n",
    "from nltk.tokenize import word_tokenize\n",
    "\n",
    "disaster_tweets = nlp_data[nlp_data['target']==1] ['keyword']\n",
    "word_freq=Counter()\n",
    "\n",
    "for tweet in disaster_tweets:\n",
    "    if pd.notnull(tweet):\n",
    "        tokens = word_tokenize(tweet.lower())\n",
    "        word_freq.update(tokens)\n",
    "\n",
    "print(word_freq)\n"
   ]
  },
  {
   "cell_type": "markdown",
   "metadata": {},
   "source": [
    "### Frequency of phrases "
   ]
  },
  {
   "cell_type": "code",
   "execution_count": 167,
   "metadata": {},
   "outputs": [
    {
     "name": "stderr",
     "output_type": "stream",
     "text": [
      "C:\\Users\\pooji\\AppData\\Local\\Temp\\ipykernel_15952\\1905654878.py:12: SettingWithCopyWarning: \n",
      "A value is trying to be set on a copy of a slice from a DataFrame\n",
      "\n",
      "See the caveats in the documentation: https://pandas.pydata.org/pandas-docs/stable/user_guide/indexing.html#returning-a-view-versus-a-copy\n",
      "  disaster_tweets['phrases'] = nlp_data['text'].apply(extract_phrases)\n"
     ]
    },
    {
     "data": {
      "text/plain": [
       "[('i liked a', 42),\n",
       " ('liked a youtube', 42),\n",
       " ('a youtube video', 42),\n",
       " ('northern california wildfire', 29),\n",
       " ('more homes razed', 29),\n",
       " ('homes razed by', 29),\n",
       " ('the latest more', 28),\n",
       " ('latest more homes', 28),\n",
       " ('razed by northern', 28),\n",
       " ('pkk suicide bomber', 28),\n",
       " ('suicide bomber who', 28),\n",
       " ('bomber who detonated', 28),\n",
       " ('who detonated bomb', 28),\n",
       " ('detonated bomb in', 28),\n",
       " ('by northern california', 27),\n",
       " ('16yr old pkk', 27),\n",
       " ('old pkk suicide', 27),\n",
       " ('families to sue', 26),\n",
       " ('to sue over', 26),\n",
       " ('sue over legionnaires', 26)]"
      ]
     },
     "execution_count": 167,
     "metadata": {},
     "output_type": "execute_result"
    }
   ],
   "source": [
    "from collections import Counter\n",
    "import re\n",
    "\n",
    "# Function to preprocess text and extract phrases\n",
    "def extract_phrases(text, n=3):\n",
    "    text = re.sub(r'[^\\w\\s]', '', text.lower())  # Remove punctuation and convert to lowercase\n",
    "    words = text.split()\n",
    "    phrases = [' '.join(words[i:i+n]) for i in range(len(words)-n+1)]\n",
    "    return phrases\n",
    "\n",
    "# Apply the function to the disaster tweets\n",
    "disaster_tweets['phrases'] = nlp_data['text'].apply(extract_phrases)\n",
    "\n",
    "# Flatten the list of phrases\n",
    "all_phrases = [phrase for sublist in disaster_tweets['phrases'] for phrase in sublist]\n",
    "\n",
    "# Count the frequency of each phrase\n",
    "phrase_freq = Counter(all_phrases)\n",
    "\n",
    "# Get the top 20 phrases\n",
    "top_phrases = phrase_freq.most_common(20)\n",
    "\n",
    "top_phrases"
   ]
  },
  {
   "cell_type": "code",
   "execution_count": 168,
   "metadata": {},
   "outputs": [
    {
     "data": {
      "image/png": "[encoded data removed]",
      "text/plain": [
       "<Figure size 1200x800 with 1 Axes>"
      ]
     },
     "metadata": {},
     "output_type": "display_data"
    }
   ],
   "source": [
    "# Plot the top 20 phrases\n",
    "plt.figure(figsize=(12, 8))\n",
    "pd.Series(dict(top_phrases)).sort_values().plot(kind='barh', color='blue', edgecolor='black', linewidth=1.2)\n",
    "plt.title('Top 20 Phrases Associated with Disaster Tweets')\n",
    "plt.xlabel('Frequency')\n",
    "plt.ylabel('Phrase')\n",
    "plt.tight_layout()\n",
    "plt.show()"
   ]
  },
  {
   "cell_type": "markdown",
   "metadata": {},
   "source": [
    "### Find Special Characters in dataset"
   ]
  },
  {
   "cell_type": "code",
   "execution_count": 169,
   "metadata": {},
   "outputs": [],
   "source": [
    "import re\n",
    "\n",
    "def find_special_characters(text):\n",
    "    special_characters = re.findall(r'[^a-zA-Z0-9\\s]', text)\n",
    "    return special_characters\n",
    "\n",
    "nlp_data['special_characters']=nlp_data['text'].apply(find_special_characters)"
   ]
  },
  {
   "cell_type": "markdown",
   "metadata": {},
   "source": [
    "### Display rows with special characters"
   ]
  },
  {
   "cell_type": "code",
   "execution_count": 170,
   "metadata": {},
   "outputs": [
    {
     "name": "stdout",
     "output_type": "stream",
     "text": [
      "         id       keyword location  \\\n",
      "0         1  NotAvailable  Unknown   \n",
      "1         4  NotAvailable  Unknown   \n",
      "2         5  NotAvailable  Unknown   \n",
      "3         6  NotAvailable  Unknown   \n",
      "4         7  NotAvailable  Unknown   \n",
      "...     ...           ...      ...   \n",
      "7608  10869  NotAvailable  Unknown   \n",
      "7609  10870  NotAvailable  Unknown   \n",
      "7610  10871  NotAvailable  Unknown   \n",
      "7611  10872  NotAvailable  Unknown   \n",
      "7612  10873  NotAvailable  Unknown   \n",
      "\n",
      "                                                   text  target  \\\n",
      "0     Our Deeds are the Reason of this #earthquake M...       1   \n",
      "1                Forest fire near La Ronge Sask. Canada       1   \n",
      "2     All residents asked to 'shelter in place' are ...       1   \n",
      "3     13,000 people receive #wildfires evacuation or...       1   \n",
      "4     Just got sent this photo from Ruby #Alaska as ...       1   \n",
      "...                                                 ...     ...   \n",
      "7608  Two giant cranes holding a bridge collapse int...       1   \n",
      "7609  @aria_ahrary @TheTawniest The out of control w...       1   \n",
      "7610  M1.94 [01:04 UTC]?5km S of Volcano Hawaii. htt...       1   \n",
      "7611  Police investigating after an e-bike collided ...       1   \n",
      "7612  The Latest: More Homes Razed by Northern Calif...       1   \n",
      "\n",
      "                     special_characters  \n",
      "0                                   [#]  \n",
      "1                                   [.]  \n",
      "2                             [', ', .]  \n",
      "3                                [,, #]  \n",
      "4                                [#, #]  \n",
      "...                                 ...  \n",
      "7608                    [:, /, /, ., /]  \n",
      "7609                    [@, _, @, ., .]  \n",
      "7610  [., [, :, ], ?, ., :, /, /, ., /]  \n",
      "7611                    [-, ., -, -, .]  \n",
      "7612              [:, -, :, /, /, ., /]  \n",
      "\n",
      "[7278 rows x 6 columns]\n"
     ]
    }
   ],
   "source": [
    "rows_with_special_characters = nlp_data[nlp_data['special_characters'].apply(lambda x: len(x) > 0)]\n",
    "print(rows_with_special_characters)"
   ]
  },
  {
   "cell_type": "markdown",
   "metadata": {},
   "source": [
    "### Clean the text data"
   ]
  },
  {
   "cell_type": "code",
   "execution_count": 171,
   "metadata": {},
   "outputs": [],
   "source": [
    "import re\n",
    "\n",
    "Unique_special_characters = {'ü', '£', 'Ó', '!', '>', '`', '^', '\\x9d', '}', '[', ';', ':', 'ª', 'Ï', '¬', '|', '~', '*', ',', 'ã', '¢', '\\\\', '+', '¨', 'å', '¤', \"'\", '', 'Ò', '/', 'Û', '©', 'Ç', '¡', '#', '«', ')', 'Ê', 'Â', '_', ']', '÷', 'â', '\\x89', '@', '$', '?', '&', 'Ñ', '(', '{', '.', '-', '=', '%', '¼', 'Ì', 'È'}\n",
    "\n",
    "def clean_text(text):\n",
    "    text = re.sub(r'http\\S+|www.\\S+', '', text) \n",
    "    text = re.sub(r'[{}]'.format(''.join(re.escape(c) for c in Unique_special_characters)), ' ', text)    \n",
    "    text = re.sub(r'[^\\w\\s]', '', text)          \n",
    "    text = text.lower()                          \n",
    "    return text\n",
    "\n",
    "nlp_data['clean_text'] = nlp_data['text'].apply(clean_text)\n"
   ]
  },
  {
   "cell_type": "code",
   "execution_count": 172,
   "metadata": {},
   "outputs": [
    {
     "name": "stdout",
     "output_type": "stream",
     "text": [
      "Empty DataFrame\n",
      "Columns: [id, keyword, location, text, target, special_characters, clean_text]\n",
      "Index: []\n"
     ]
    }
   ],
   "source": [
    "rows_with_special_characters = nlp_data[nlp_data['clean_text'].str.contains(r'[{}]'.format(''.join(Unique_special_characters)))]\n",
    "print(rows_with_special_characters)"
   ]
  },
  {
   "cell_type": "code",
   "execution_count": 173,
   "metadata": {},
   "outputs": [
    {
     "data": {
      "text/html": [
       "<div>\n",
       "<style scoped>\n",
       "    .dataframe tbody tr th:only-of-type {\n",
       "        vertical-align: middle;\n",
       "    }\n",
       "\n",
       "    .dataframe tbody tr th {\n",
       "        vertical-align: top;\n",
       "    }\n",
       "\n",
       "    .dataframe thead th {\n",
       "        text-align: right;\n",
       "    }\n",
       "</style>\n",
       "<table border=\"1\" class=\"dataframe\">\n",
       "  <thead>\n",
       "    <tr style=\"text-align: right;\">\n",
       "      <th></th>\n",
       "      <th>id</th>\n",
       "      <th>keyword</th>\n",
       "      <th>location</th>\n",
       "      <th>text</th>\n",
       "      <th>target</th>\n",
       "      <th>special_characters</th>\n",
       "      <th>clean_text</th>\n",
       "    </tr>\n",
       "  </thead>\n",
       "  <tbody>\n",
       "  </tbody>\n",
       "</table>\n",
       "</div>"
      ],
      "text/plain": [
       "Empty DataFrame\n",
       "Columns: [id, keyword, location, text, target, special_characters, clean_text]\n",
       "Index: []"
      ]
     },
     "execution_count": 173,
     "metadata": {},
     "output_type": "execute_result"
    }
   ],
   "source": [
    "rows_with_special_characters"
   ]
  },
  {
   "cell_type": "markdown",
   "metadata": {},
   "source": [
    "### Tokenize the text"
   ]
  },
  {
   "cell_type": "code",
   "execution_count": 174,
   "metadata": {},
   "outputs": [],
   "source": [
    "nlp_data['tokens']= nlp_data['clean_text'].apply(word_tokenize)"
   ]
  },
  {
   "cell_type": "code",
   "execution_count": null,
   "metadata": {},
   "outputs": [],
   "source": []
  }
 ],
 "metadata": {
  "kernelspec": {
   "display_name": "base",
   "language": "python",
   "name": "python3"
  },
  "language_info": {
   "codemirror_mode": {
    "name": "ipython",
    "version": 3
   },
   "file_extension": ".py",
   "mimetype": "text/x-python",
   "name": "python",
   "nbconvert_exporter": "python",
   "pygments_lexer": "ipython3",
   "version": "3.11.7"
  }
 },
 "nbformat": 4,
 "nbformat_minor": 2
}
